{
  "nbformat": 4,
  "nbformat_minor": 0,
  "metadata": {
    "colab": {
      "provenance": [],
      "authorship_tag": "ABX9TyOIA4D8ARJ7hxKhVg2b/HBK",
      "include_colab_link": true
    },
    "kernelspec": {
      "name": "python3",
      "display_name": "Python 3"
    },
    "language_info": {
      "name": "python"
    }
  },
  "cells": [
    {
      "cell_type": "markdown",
      "metadata": {
        "id": "view-in-github",
        "colab_type": "text"
      },
      "source": [
        "<a href=\"https://colab.research.google.com/github/Uelton-Fubuki/Autoraend/blob/main/Dado%20de%20RPG.ipynb\" target=\"_parent\"><img src=\"https://colab.research.google.com/assets/colab-badge.svg\" alt=\"Open In Colab\"/></a>"
      ]
    },
    {
      "cell_type": "code",
      "execution_count": null,
      "metadata": {
        "colab": {
          "base_uri": "https://localhost:8080/"
        },
        "id": "Go8Nex5rhyFj",
        "outputId": "b6f7f017-0131-4d2a-b638-c67d65f62537"
      },
      "outputs": [
        {
          "output_type": "stream",
          "name": "stdout",
          "text": [
            "🌟 Bem-vindo, aventureiro, ao Simulador de Dados de RPG! 🎲\n",
            "Prepare-se para testar a sua sorte nos dados...\n",
            "\n",
            "\n",
            "Escolha o tipo de dado para rolar:\n",
            "1 - d4\n",
            "2 - d6\n",
            "3 - d8\n",
            "4 - d10\n",
            "5 - d12\n",
            "6 - d20\n",
            "0 - Sair da aventura\n",
            "Digite a sua escolha: 6\n",
            "\n",
            "🎲 Você está prestes a rolar um dado d20...\n",
            "✨ Resultado: 3\n",
            "\n",
            "⚔️ Olá novamente, aventureiro! Vamos rolar mais um dado?\n",
            "\n",
            "Escolha o tipo de dado para rolar:\n",
            "1 - d4\n",
            "2 - d6\n",
            "3 - d8\n",
            "4 - d10\n",
            "5 - d12\n",
            "6 - d20\n",
            "0 - Sair da aventura\n",
            "Digite a sua escolha: 1\n",
            "\n",
            "🎲 Você está prestes a rolar um dado d4...\n",
            "✨ Resultado: 3\n",
            "\n",
            "⚔️ Olá novamente, aventureiro! Vamos rolar mais um dado?\n",
            "\n",
            "Escolha o tipo de dado para rolar:\n",
            "1 - d4\n",
            "2 - d6\n",
            "3 - d8\n",
            "4 - d10\n",
            "5 - d12\n",
            "6 - d20\n",
            "0 - Sair da aventura\n",
            "Digite a sua escolha: 8\n",
            "\n",
            "❌ Opção inválida. Escolha um número entre 0 e 6.\n",
            "\n",
            "⚔️ Olá novamente, aventureiro! Vamos rolar mais um dado?\n",
            "\n",
            "Escolha o tipo de dado para rolar:\n",
            "1 - d4\n",
            "2 - d6\n",
            "3 - d8\n",
            "4 - d10\n",
            "5 - d12\n",
            "6 - d20\n",
            "0 - Sair da aventura\n",
            "Digite a sua escolha: 1\n",
            "\n",
            "🎲 Você está prestes a rolar um dado d4...\n",
            "✨ Resultado: 2\n",
            "\n",
            "⚔️ Olá novamente, aventureiro! Vamos rolar mais um dado?\n",
            "\n",
            "Escolha o tipo de dado para rolar:\n",
            "1 - d4\n",
            "2 - d6\n",
            "3 - d8\n",
            "4 - d10\n",
            "5 - d12\n",
            "6 - d20\n",
            "0 - Sair da aventura\n"
          ]
        }
      ],
      "source": [
        "import random\n",
        "import time\n",
        "\n",
        "def rolar_dado(lados):\n",
        "    return random.randint(1, lados)\n",
        "\n",
        "print(\"🌟 Bem-vindo, aventureiro, ao Simulador de Dados de RPG! 🎲\")\n",
        "time.sleep(1)\n",
        "print(\"Prepare-se para testar a sua sorte nos dados...\\n\")\n",
        "\n",
        "jogadas_realizadas = 0\n",
        "\n",
        "while True:\n",
        "    if jogadas_realizadas > 0:\n",
        "        print(\"\\n⚔️ Olá novamente, aventureiro! Vamos rolar mais um dado?\")\n",
        "\n",
        "    print(\"\\nEscolha o tipo de dado para rolar:\")\n",
        "    print(\"1 - d4\")\n",
        "    print(\"2 - d6\")\n",
        "    print(\"3 - d8\")\n",
        "    print(\"4 - d10\")\n",
        "    print(\"5 - d12\")\n",
        "    print(\"6 - d20\")\n",
        "    print(\"0 - Sair da aventura\")\n",
        "\n",
        "    escolha = input(\"Digite a sua escolha: \")\n",
        "\n",
        "    dados = {'1': 4, '2': 6, '3': 8, '4': 10, '5': 12, '6': 20}\n",
        "\n",
        "    if escolha == '0':\n",
        "        print(\"\\n🛡️ A aventura termina por aqui... Até a próxima, bravo aventureiro!\")\n",
        "        break\n",
        "\n",
        "    if escolha in dados:\n",
        "        lados = dados[escolha]\n",
        "        print(f\"\\n🎲 Você está prestes a rolar um dado d{lados}...\")\n",
        "        time.sleep(1)  # Pequena pausa para suspense\n",
        "        resultado = rolar_dado(lados)\n",
        "        print(f\"✨ Resultado: {resultado}\")\n",
        "        jogadas_realizadas += 1\n",
        "    else:\n",
        "        print(\"\\n❌ Opção inválida. Escolha um número entre 0 e 6.\")"
      ]
    }
  ]
}