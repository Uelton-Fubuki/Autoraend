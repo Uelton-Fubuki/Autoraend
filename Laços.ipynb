{
  "nbformat": 4,
  "nbformat_minor": 0,
  "metadata": {
    "colab": {
      "provenance": [],
      "authorship_tag": "ABX9TyOfTj7YEBrcu6YkSRxJ1YK/",
      "include_colab_link": true
    },
    "kernelspec": {
      "name": "python3",
      "display_name": "Python 3"
    },
    "language_info": {
      "name": "python"
    }
  },
  "cells": [
    {
      "cell_type": "markdown",
      "metadata": {
        "id": "view-in-github",
        "colab_type": "text"
      },
      "source": [
        "<a href=\"https://colab.research.google.com/github/Uelton-Fubuki/Autoraend/blob/main/La%C3%A7os.ipynb\" target=\"_parent\"><img src=\"https://colab.research.google.com/assets/colab-badge.svg\" alt=\"Open In Colab\"/></a>"
      ]
    },
    {
      "cell_type": "code",
      "source": [
        "total = 0\n",
        "dinheiro = 0\n",
        "acc_idades = 0\n",
        "\n",
        "\n",
        "while True:\n",
        "  idade = int(input('Qual a sua idade?'))\n",
        "  if idade == 0:\n",
        "    break\n",
        "\n",
        "  total += 1\n",
        "  acc_idades += idade\n",
        "  if idade < 3:\n",
        "    ingresso = 0\n",
        "  else:\n",
        "    if idade > 12:\n",
        "      ingresso = 30\n",
        "    else:\n",
        "      ingresso = 15\n",
        "\n",
        "  dinheiro += ingresso\n",
        "\n",
        "if total > 0:\n",
        " media = acc_idades / total\n",
        " print(f'Total de pessoas: {total}')\n",
        " print(f'Total de arrecadado: {dinheiro}')\n",
        " print(f'Média de idades: {media}')"
      ],
      "metadata": {
        "colab": {
          "base_uri": "https://localhost:8080/"
        },
        "id": "Ll_Z7W2q8Trx",
        "outputId": "95cef6ac-4db0-4ef8-9a45-dbe0ea6b17cd"
      },
      "execution_count": 83,
      "outputs": [
        {
          "output_type": "stream",
          "name": "stdout",
          "text": [
            "Qual a sua idade?10\n",
            "Qual a sua idade?18\n",
            "Qual a sua idade?45\n",
            "Qual a sua idade?38\n",
            "Qual a sua idade?20\n",
            "Qual a sua idade?25\n",
            "Qual a sua idade?69\n",
            "Qual a sua idade?0\n",
            "Total de pessoas: 7\n",
            "Total de arrecadado: 195\n",
            "Média de idades: 32.142857142857146\n"
          ]
        }
      ]
    }
  ]
}