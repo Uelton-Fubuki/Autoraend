{
  "nbformat": 4,
  "nbformat_minor": 0,
  "metadata": {
    "colab": {
      "provenance": [],
      "authorship_tag": "ABX9TyNpSZgqRluuXtS8NYp4zn+1",
      "include_colab_link": true
    },
    "kernelspec": {
      "name": "python3",
      "display_name": "Python 3"
    },
    "language_info": {
      "name": "python"
    }
  },
  "cells": [
    {
      "cell_type": "markdown",
      "metadata": {
        "id": "view-in-github",
        "colab_type": "text"
      },
      "source": [
        "<a href=\"https://colab.research.google.com/github/Uelton-Fubuki/Autoraend/blob/main/Projeto%20de%20calculo%20de%20c%C3%A9dulas.ipynb\" target=\"_parent\"><img src=\"https://colab.research.google.com/assets/colab-badge.svg\" alt=\"Open In Colab\"/></a>"
      ]
    },
    {
      "cell_type": "code",
      "source": [
        "valor = int(input('Digite o valor em R$ :'))\n",
        "\n",
        "while True:\n",
        "    if valor >= 100:\n",
        "       cont100 = valor // 100\n",
        "       valor = valor - cont100 * 100\n",
        "       print(f'Cédulas de 100: {cont100}')\n",
        "       if not valor:\n",
        "        break\n",
        "\n",
        "    if valor >= 50:\n",
        "       cont50 = valor // 50\n",
        "       valor = valor - cont50 * 50\n",
        "       print(f'Cédulas de 50: {cont50}')\n",
        "       if not valor:\n",
        "        break\n",
        "\n",
        "    if valor >= 20:\n",
        "       cont20 = valor // 20\n",
        "       valor = valor - cont20 * 20\n",
        "       print(f'Cédulas de 20: {cont20}')\n",
        "       if not valor:\n",
        "        break\n",
        "\n",
        "    if valor >= 10:\n",
        "       cont10= valor //  10\n",
        "       valor = valor - cont10 *  10\n",
        "       print(f'Cédulas de 10: {cont10}')\n",
        "       if not valor:\n",
        "        break\n",
        "\n",
        "    if valor >= 5:\n",
        "       cont5 = valor // 5\n",
        "       valor = valor - cont5 * 5\n",
        "       print(f'Cédulas de 5: {cont5}')\n",
        "       if not valor:\n",
        "        break\n",
        "\n",
        "\n",
        "    if valor:\n",
        "      cont1 = valor\n",
        "      print(f'C´deulas de 1: {cont1}')\n",
        "      break"
      ],
      "metadata": {
        "colab": {
          "base_uri": "https://localhost:8080/"
        },
        "id": "Ll_Z7W2q8Trx",
        "outputId": "a3e7b86b-e3e3-49c0-a16d-00ca6dee742a"
      },
      "execution_count": 75,
      "outputs": [
        {
          "output_type": "stream",
          "name": "stdout",
          "text": [
            "Digite o valor em R$ :85\n",
            "Cédulas de 50: 1\n",
            "Cédulas de 20: 1\n",
            "Cédulas de 10: 1\n",
            "Cédulas de 5: 1\n"
          ]
        }
      ]
    }
  ]
}